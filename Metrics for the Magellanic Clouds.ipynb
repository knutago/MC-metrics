{
 "cells": [
  {
   "cell_type": "markdown",
   "metadata": {},
   "source": [
    "# Collecting metrics for Magellanic Clouds science\n",
    "\n",
    "This is a notebook that describes some of the preliminaries of running and creating metrics in MAF.  It borrows heavily from the notebooks listed in the [`sims_maf_contrib`](https://github.com/LSST-nonproject/sims_maf_contrib) tutorials.\n",
    "\n",
    "In order for these imports to work, you need to have:\n",
    "\n",
    "* installed the LSST software stack\n",
    "* sourced the loadLSST setup file, e.g. `source loadLSST.bash`\n",
    "* run `setup sims_maf` in the shell\n",
    "* started your Jupyter server from the shell, e.g. `Juyter notebook`"
   ]
  },
  {
   "cell_type": "code",
   "execution_count": null,
   "metadata": {},
   "outputs": [],
   "source": [
    "from __future__ import print_function\n",
    "\n",
    "import lsst.sims.maf\n",
    "import numpy as np \n",
    "import matplotlib.pyplot as plt\n",
    "%matplotlib inline\n",
    "import lsst.sims.maf.db as db\n",
    "import lsst.sims.maf.metrics as metrics\n",
    "import lsst.sims.maf.slicers as slicers\n",
    "import lsst.sims.maf.metricBundles as metricBundles\n",
    "\n",
    "lsst.sims.maf.__version__"
   ]
  },
  {
   "cell_type": "markdown",
   "metadata": {},
   "source": [
    "Metrics are computed against OpSim simulations, the outputs of which are stored in SQLite databases.  The latest simulation outputs are avaialable at http://astro-lsst-01.astro.washington.edu:8082.  They're described in https://community.lsst.org/t/january-2020-update-fbs-1-4-runs/4006.  In order to run metrics against a simulation, you need to have downloaded the associate .db file.  In this notebook, we use the simulation database available at http://astro-lsst-01.astro.washington.edu:8082/fbs_db/footprints/footprint_add_mag_cloudsv1.4_10yrs.db."
   ]
  },
  {
   "cell_type": "code",
   "execution_count": null,
   "metadata": {},
   "outputs": [],
   "source": [
    "dbdir = '/Users/olsen/lsstRepos/mafdb/'\n",
    "opsdb = db.OpsimDatabase(dbdir+'footprint_add_mag_cloudsv1.4_10yrs.db')\n",
    "outDir = 'output_directory' #results from the metrics will be stored here\n",
    "resultsDb = db.ResultsDb(outDir=outDir)\n"
   ]
  },
  {
   "cell_type": "markdown",
   "metadata": {},
   "source": [
    "What information is in the OpSim output?  You can get the names of the columns in the database by running the `columnNames` method on `opsdb`.  The database populates these columns with information about every visit in the simulated cadence.  In order to access this information, we will need to issue a query against the database, as described below."
   ]
  },
  {
   "cell_type": "code",
   "execution_count": null,
   "metadata": {},
   "outputs": [],
   "source": [
    "opsdb.columnNames"
   ]
  },
  {
   "cell_type": "markdown",
   "metadata": {},
   "source": [
    "As described in the sims_maf_contrib Introduction notebook, to run a metric against OpSim output, you need to:\n",
    "* specify what you want to measure (referred to as the `metric`), e.g. 5-sigma depth\n",
    "* specify how you want to project the output (referred to as a `slicer`), e.g. a map of the metric on the sky, or a one-dimensional vector ordered by time of observation, or a single number over the whole survey\n",
    "* specify the subset of the OpSim output that you want to consider (referred to as a `constraint`), e.g. only output for visits in r-band.\n",
    "\n",
    "Once these are defined, you collect them into a `MetricBundle`, assemble a dictionary (`bundledict`) describing all of yuor `MetricBundles`, associate your `bundledict` with the input simulation database and output results database through a `MetricBundleGroup`, and use the `MetricBundleGroup` to run your metric.  Following the Introduction notebook, here's an example that returns the lowest airmass at which r-band observations were made at each point in the sky, at roughly 1-degree resolution, using the footprint_add_mag_cloudsv1.4_10yrs simulation output:"
   ]
  },
  {
   "cell_type": "code",
   "execution_count": null,
   "metadata": {},
   "outputs": [],
   "source": [
    "# metric = the \"maximum\" of the \"airmass\" for each group of visits in the slicer\n",
    "metric1 = metrics.MinMetric('airmass')\n",
    "\n",
    "# slicer = a grouping or subdivision of visits for the simulated survey\n",
    "# based on their position on the sky (using a Healpix grid)\n",
    "slicer1 = slicers.HealpixSlicer(nside=64)\n",
    "\n",
    "# sqlconstraint = the sql query (or 'select') that selects all visits in r band\n",
    "sqlconstraint = 'filter = \"r\"'\n",
    "\n",
    "# MetricBundle = combination of the metric, slicer, and sqlconstraint\n",
    "minairmassSky = metricBundles.MetricBundle(metric1, slicer1, sqlconstraint)\n",
    "\n",
    "# Our bundleDict will contain just this one metric\n",
    "bundleDict = {'minairmassSky': minairmassSky}\n",
    "\n",
    "# Group our bundleDict with the input simulation (opsdb) and location for string results (outDir, resultsDb)\n",
    "group = metricBundles.MetricBundleGroup(\n",
    "    bundleDict, opsdb, outDir=outDir, resultsDb=resultsDb)"
   ]
  },
  {
   "cell_type": "markdown",
   "metadata": {},
   "source": [
    "Finally, run the metric against the simulation:"
   ]
  },
  {
   "cell_type": "code",
   "execution_count": null,
   "metadata": {},
   "outputs": [],
   "source": [
    "group.runAll()"
   ]
  },
  {
   "cell_type": "markdown",
   "metadata": {},
   "source": [
    "MAF can plot the map of the minimum airmass, the histogram, and the power spectrum:"
   ]
  },
  {
   "cell_type": "code",
   "execution_count": null,
   "metadata": {},
   "outputs": [],
   "source": [
    "group.plotAll(closefigs=False)"
   ]
  },
  {
   "cell_type": "markdown",
   "metadata": {},
   "source": [
    "MAF has lots of metric provided in its BaseMetric class.  You can get the list of names of them, as shown in the Writing a New Metric notebook, but they won't be very useful unless you can also see what they do.  Fortunately, the name of the module is also stored in the BaseMetric registry:"
   ]
  },
  {
   "cell_type": "code",
   "execution_count": null,
   "metadata": {},
   "outputs": [],
   "source": [
    "# List of provided metrics\n",
    "\n",
    "for metric, module in zip(metrics.BaseMetric.registry.keys(), metrics.BaseMetric.registry.values()):\n",
    "    print(metric, module)"
   ]
  },
  {
   "cell_type": "markdown",
   "metadata": {},
   "source": [
    "If you want to see the documentation and code for a particular metric, try e.g.:"
   ]
  },
  {
   "cell_type": "code",
   "execution_count": null,
   "metadata": {},
   "outputs": [],
   "source": [
    "??lsst.sims.maf.metrics.simpleMetrics.MaxMetric"
   ]
  },
  {
   "cell_type": "code",
   "execution_count": null,
   "metadata": {},
   "outputs": [],
   "source": []
  }
 ],
 "metadata": {
  "kernelspec": {
   "display_name": "Python 3",
   "language": "python",
   "name": "python3"
  },
  "language_info": {
   "codemirror_mode": {
    "name": "ipython",
    "version": 3
   },
   "file_extension": ".py",
   "mimetype": "text/x-python",
   "name": "python",
   "nbconvert_exporter": "python",
   "pygments_lexer": "ipython3",
   "version": "3.7.6"
  }
 },
 "nbformat": 4,
 "nbformat_minor": 4
}
